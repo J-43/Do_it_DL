{
 "cells": [
  {
   "cell_type": "markdown",
   "metadata": {},
   "source": [
    "## 07-1 다중 분류 신경망을 만듭니다"
   ]
  },
  {
   "cell_type": "code",
   "execution_count": 1,
   "metadata": {},
   "outputs": [],
   "source": [
    "import numpy as np"
   ]
  },
  {
   "cell_type": "code",
   "execution_count": 36,
   "metadata": {},
   "outputs": [],
   "source": [
    "class MultiClassNetwork:\n",
    "    \n",
    "    def __init__(self, units=10, batch_size=32, learning_rate=0.1, l1=0, l2=0):\n",
    "        self.units = units\n",
    "        self.batch_size = batch_size\n",
    "        self.w1 = None\n",
    "        self.b1 = None\n",
    "        self.w2 = None\n",
    "        self.b2 = None\n",
    "        self.a1 = None\n",
    "        self.losses = []\n",
    "        self.val_losses = []\n",
    "        self.lr = learning_rate\n",
    "        self.l1 = l1\n",
    "        self.l2 = l2\n",
    "        \n",
    "    def forpass(self, x):\n",
    "        z1 = np.dot(x, self.w1) +self.b1\n",
    "        self.a1 = self.sigmoid(z1)\n",
    "        z2 = np.dot(self.a1, self.w2) +self.b2\n",
    "        return z2\n",
    "    \n",
    "    def backprop(self, x, err):\n",
    "        m = len(x)\n",
    "        w2_grad = np.dot(self.a1.T, err) / m\n",
    "        b2_grad = np.sum(err) / m\n",
    "        err_to_hidden = np.dot(err, self.w2.T) * self.a1 * (1 - self.a1)\n",
    "        w1_grad = np.dot(x.T, err_to_hidden) / m\n",
    "        b1_grad = np.sum(err_to_hidden, axis = 0) / m\n",
    "        return w1_grad, b1_grad, w2_grad, b2_grad\n",
    "    \n",
    "    def sigmoid(self, z):\n",
    "        a = 1 / (1 + np.exp(-z))\n",
    "        return a\n",
    "    \n",
    "    def softmax(self, z):\n",
    "        exp_z = np.exp(z)\n",
    "        return exp_z / np.sum(exp_z, axis=1).reshape(-1,1)\n",
    "    \n",
    "    def init_weights(self, n_features, n_classes):\n",
    "        self.w1 = np.random.normal(0, 1, (n_features, self.units))\n",
    "        self.b1 = np.zeros(self.units)\n",
    "        self.w2 = np.random.normal(0, 1, (self.units, n_classes))\n",
    "        self.b2 = np.zeros(n_classes)\n",
    "        \n",
    "    def fit(self, x, y, epochs=100, x_val=None, y_val=None):\n",
    "        np.random.seed(42)\n",
    "        self.init_weights(x.shape[1],y.shape[1])\n",
    "        for i in range(epochs):\n",
    "            loss = 0\n",
    "            print('.', end='')\n",
    "            for x_batch, y_batch in self.gen_batch(x,y):\n",
    "                a = self.training(x_batch, y_batch)\n",
    "                a = np.clip(a, 1e-10, 1-1e-10)\n",
    "                loss += np.sum(-y_batch * np.log(a))\n",
    "            self.losses.append((loss + self.reg_loss()) / len(x))\n",
    "            self.update_val_loss(x_val, y_val)\n",
    "            \n",
    "    def gen_batch(self, x, y):\n",
    "        length = len(x)\n",
    "        bins = length // self.batch_size\n",
    "        if length % self.batch_size:\n",
    "            bins += 1                # 나누어 떨어지지 않을때\n",
    "        indexes = np.random.permutation(np.arange(len(x)))\n",
    "        x = x[indexes]\n",
    "        y = y[indexes]\n",
    "        for i in range(bins):\n",
    "            start = self.batch_size * i\n",
    "            end = self.batch_size * (i + 1)\n",
    "            yield x[start:end], y[start:end]\n",
    "            \n",
    "    def training(self, x, y):\n",
    "        m = len(x)\n",
    "        z = self.forpass(x)\n",
    "        a = self.softmax(z)\n",
    "        err = -(y - a)\n",
    "        w1_grad, b1_grad, w2_grad, b2_grad = self.backprop(x, err)\n",
    "        w1_grad += (self.l1 * np.sign(self.w1) + self.l2 *self.w1) / m\n",
    "        w2_grad += (self.l1 * np.sign(self.w2) +self.l2 * self.w2) / m\n",
    "        self.w1 -= self.lr *w1_grad\n",
    "        self.b1 -= self.lr *b1_grad\n",
    "        self.w2 -= self.lr * w2_grad\n",
    "        self.b2 -= self.lr * b2_grad\n",
    "        return a\n",
    "    \n",
    "\n",
    "    def predict(self, x):\n",
    "        z = self.forpass(x)\n",
    "        return np.argmax(z, axis=1)\n",
    "    \n",
    "    def score(self, x, y):\n",
    "        return np.mean(self.predict(x) == np.argmax(y, axis=1))\n",
    "    \n",
    "    def reg_loss(self):\n",
    "        return self.l1 *(np.sum(np.abs(self.w1)) + np.sum(np.abs(self.w2))) + \\\n",
    "               self.l2 / 2 * (np.sum(self.w1 **2) + np.sum(self.w2**2))\n",
    "    \n",
    "    def update_val_loss(self, x_val, y_val):\n",
    "        z = self.forpass(x_val)\n",
    "        a = self.softmax(z)\n",
    "        a = np.clip(a, 1e-10, 1-1e-10)\n",
    "        val_loss = np.sum(-y_val *np.log(a))\n",
    "        self.val_losses.append((val_loss + self.reg_loss()) / len(y_val))\n",
    "        "
   ]
  },
  {
   "cell_type": "code",
   "execution_count": null,
   "metadata": {},
   "outputs": [],
   "source": []
  },
  {
   "cell_type": "code",
   "execution_count": 4,
   "metadata": {},
   "outputs": [],
   "source": [
    "import tensorflow as tf"
   ]
  },
  {
   "cell_type": "code",
   "execution_count": 5,
   "metadata": {},
   "outputs": [
    {
     "data": {
      "text/plain": [
       "'2.3.0'"
      ]
     },
     "execution_count": 5,
     "metadata": {},
     "output_type": "execute_result"
    }
   ],
   "source": [
    "tf.__version__"
   ]
  },
  {
   "cell_type": "code",
   "execution_count": 6,
   "metadata": {},
   "outputs": [
    {
     "name": "stdout",
     "output_type": "stream",
     "text": [
      "Downloading data from https://storage.googleapis.com/tensorflow/tf-keras-datasets/train-labels-idx1-ubyte.gz\n",
      "32768/29515 [=================================] - 0s 1us/step\n",
      "Downloading data from https://storage.googleapis.com/tensorflow/tf-keras-datasets/train-images-idx3-ubyte.gz\n",
      "26427392/26421880 [==============================] - 16s 1us/step\n",
      "Downloading data from https://storage.googleapis.com/tensorflow/tf-keras-datasets/t10k-labels-idx1-ubyte.gz\n",
      "8192/5148 [===============================================] - 0s 0us/step\n",
      "Downloading data from https://storage.googleapis.com/tensorflow/tf-keras-datasets/t10k-images-idx3-ubyte.gz\n",
      "4423680/4422102 [==============================] - 2s 1us/step\n"
     ]
    }
   ],
   "source": [
    "(x_train_all, y_train_all), (x_test, y_test) = tf.keras.datasets.fashion_mnist.load_data()"
   ]
  },
  {
   "cell_type": "code",
   "execution_count": 7,
   "metadata": {},
   "outputs": [
    {
     "name": "stdout",
     "output_type": "stream",
     "text": [
      "(60000, 28, 28) (60000,)\n"
     ]
    }
   ],
   "source": [
    "print(x_train_all.shape, y_train_all.shape)"
   ]
  },
  {
   "cell_type": "code",
   "execution_count": 8,
   "metadata": {},
   "outputs": [],
   "source": [
    "import matplotlib.pyplot as plt"
   ]
  },
  {
   "cell_type": "code",
   "execution_count": 9,
   "metadata": {},
   "outputs": [
    {
     "data": {
      "text/plain": [
       "<function matplotlib.pyplot.show(*args, **kw)>"
      ]
     },
     "execution_count": 9,
     "metadata": {},
     "output_type": "execute_result"
    },
    {
     "data": {
      "image/png": "[encoded data removed]",
      "text/plain": [
       "<Figure size 432x288 with 1 Axes>"
      ]
     },
     "metadata": {
      "needs_background": "light"
     },
     "output_type": "display_data"
    }
   ],
   "source": [
    "plt.imshow(x_train_all[0], cmap = 'gray')\n",
    "plt.show"
   ]
  },
  {
   "cell_type": "code",
   "execution_count": 10,
   "metadata": {},
   "outputs": [
    {
     "name": "stdout",
     "output_type": "stream",
     "text": [
      "[9 0 0 3 0 2 7 2 5 5]\n"
     ]
    }
   ],
   "source": [
    "print(y_train_all[:10])"
   ]
  },
  {
   "cell_type": "code",
   "execution_count": 11,
   "metadata": {},
   "outputs": [],
   "source": [
    "class_names = ['티셔츠/윗도리', '바지', '스웨터', '드레스', '코트', '샌들', '셔츠', '스니커즈', '가방', '앵클부츠']"
   ]
  },
  {
   "cell_type": "code",
   "execution_count": 12,
   "metadata": {},
   "outputs": [
    {
     "name": "stdout",
     "output_type": "stream",
     "text": [
      "앵클부츠\n"
     ]
    }
   ],
   "source": [
    "print(class_names[y_train_all[0]])"
   ]
  },
  {
   "cell_type": "code",
   "execution_count": 13,
   "metadata": {},
   "outputs": [
    {
     "data": {
      "text/plain": [
       "array([6000, 6000, 6000, 6000, 6000, 6000, 6000, 6000, 6000, 6000])"
      ]
     },
     "execution_count": 13,
     "metadata": {},
     "output_type": "execute_result"
    }
   ],
   "source": [
    "np.bincount(y_train_all)"
   ]
  },
  {
   "cell_type": "code",
   "execution_count": 14,
   "metadata": {},
   "outputs": [],
   "source": [
    "from sklearn.model_selection import train_test_split"
   ]
  },
  {
   "cell_type": "code",
   "execution_count": 16,
   "metadata": {},
   "outputs": [],
   "source": [
    "x_train, x_val, y_train, y_val = train_test_split(x_train_all, y_train_all, stratify=y_train_all, test_size=0.2, random_state=42 )"
   ]
  },
  {
   "cell_type": "code",
   "execution_count": 17,
   "metadata": {},
   "outputs": [
    {
     "data": {
      "text/plain": [
       "array([4800, 4800, 4800, 4800, 4800, 4800, 4800, 4800, 4800, 4800])"
      ]
     },
     "execution_count": 17,
     "metadata": {},
     "output_type": "execute_result"
    }
   ],
   "source": [
    "np.bincount(y_train)"
   ]
  },
  {
   "cell_type": "code",
   "execution_count": 18,
   "metadata": {},
   "outputs": [
    {
     "data": {
      "text/plain": [
       "array([1200, 1200, 1200, 1200, 1200, 1200, 1200, 1200, 1200, 1200])"
      ]
     },
     "execution_count": 18,
     "metadata": {},
     "output_type": "execute_result"
    }
   ],
   "source": [
    "np.bincount(y_val)"
   ]
  },
  {
   "cell_type": "code",
   "execution_count": 19,
   "metadata": {},
   "outputs": [],
   "source": [
    "x_train = x_train /255\n",
    "x_val = x_val /255"
   ]
  },
  {
   "cell_type": "code",
   "execution_count": 20,
   "metadata": {},
   "outputs": [],
   "source": [
    "x_train = x_train.reshape(-1,784)\n",
    "x_val = x_val.reshape(-1,784)"
   ]
  },
  {
   "cell_type": "code",
   "execution_count": 21,
   "metadata": {},
   "outputs": [
    {
     "name": "stdout",
     "output_type": "stream",
     "text": [
      "(48000, 784) (12000, 784)\n"
     ]
    }
   ],
   "source": [
    "print(x_train.shape, x_val.shape)"
   ]
  },
  {
   "cell_type": "code",
   "execution_count": 22,
   "metadata": {},
   "outputs": [
    {
     "data": {
      "text/plain": [
       "array([[1, 0, 0],\n",
       "       [0, 1, 0],\n",
       "       [0, 0, 1],\n",
       "       [0, 1, 0]])"
      ]
     },
     "execution_count": 22,
     "metadata": {},
     "output_type": "execute_result"
    }
   ],
   "source": [
    "from sklearn.preprocessing import LabelBinarizer\n",
    "lb = LabelBinarizer()\n",
    "lb.fit_transform([0,1,3,1])"
   ]
  },
  {
   "cell_type": "code",
   "execution_count": 23,
   "metadata": {},
   "outputs": [
    {
     "data": {
      "text/plain": [
       "array([[1., 0., 0., 0.],\n",
       "       [0., 1., 0., 0.],\n",
       "       [0., 0., 0., 1.]], dtype=float32)"
      ]
     },
     "execution_count": 23,
     "metadata": {},
     "output_type": "execute_result"
    }
   ],
   "source": [
    "tf.keras.utils.to_categorical([0,1,3])"
   ]
  },
  {
   "cell_type": "code",
   "execution_count": 25,
   "metadata": {},
   "outputs": [],
   "source": [
    "y_train_encoded = tf.keras.utils.to_categorical(y_train)\n",
    "y_val_encoded = tf.keras.utils.to_categorical(y_val)"
   ]
  },
  {
   "cell_type": "code",
   "execution_count": 26,
   "metadata": {},
   "outputs": [
    {
     "name": "stdout",
     "output_type": "stream",
     "text": [
      "(48000, 10) (12000, 10)\n"
     ]
    }
   ],
   "source": [
    "print(y_train_encoded.shape, y_val_encoded.shape)"
   ]
  },
  {
   "cell_type": "code",
   "execution_count": 27,
   "metadata": {},
   "outputs": [
    {
     "name": "stdout",
     "output_type": "stream",
     "text": [
      "6 [0. 0. 0. 0. 0. 0. 1. 0. 0. 0.]\n"
     ]
    }
   ],
   "source": [
    "print(y_train[0], y_train_encoded[0])"
   ]
  },
  {
   "cell_type": "code",
   "execution_count": 37,
   "metadata": {},
   "outputs": [
    {
     "name": "stdout",
     "output_type": "stream",
     "text": [
      "........................................"
     ]
    }
   ],
   "source": [
    "fc = MultiClassNetwork(units = 100, batch_size = 256)\n",
    "fc.fit(x_train, y_train_encoded, x_val=x_val, y_val=y_val_encoded, epochs=40)"
   ]
  },
  {
   "cell_type": "code",
   "execution_count": 38,
   "metadata": {},
   "outputs": [
    {
     "data": {
      "image/png": "[encoded data removed]",
      "text/plain": [
       "<Figure size 432x288 with 1 Axes>"
      ]
     },
     "metadata": {
      "needs_background": "light"
     },
     "output_type": "display_data"
    }
   ],
   "source": [
    "plt.plot(fc.losses)\n",
    "plt.plot(fc.val_losses)\n",
    "plt.ylabel('loss')\n",
    "plt.xlabel('iteration')\n",
    "plt.legend(['train_loss', 'val_loss'])\n",
    "plt.show()"
   ]
  },
  {
   "cell_type": "code",
   "execution_count": 39,
   "metadata": {},
   "outputs": [
    {
     "data": {
      "text/plain": [
       "0.8150833333333334"
      ]
     },
     "execution_count": 39,
     "metadata": {},
     "output_type": "execute_result"
    }
   ],
   "source": [
    "fc.score(x_val, y_val_encoded)"
   ]
  },
  {
   "cell_type": "code",
   "execution_count": 40,
   "metadata": {},
   "outputs": [
    {
     "data": {
      "text/plain": [
       "array([4, 6, 3, ..., 0, 6, 6])"
      ]
     },
     "execution_count": 40,
     "metadata": {},
     "output_type": "execute_result"
    }
   ],
   "source": [
    "np.random.permutation(np.arange(12000)%10)"
   ]
  },
  {
   "cell_type": "code",
   "execution_count": 41,
   "metadata": {},
   "outputs": [
    {
     "data": {
      "text/plain": [
       "0.10325"
      ]
     },
     "execution_count": 41,
     "metadata": {},
     "output_type": "execute_result"
    }
   ],
   "source": [
    "np.sum(y_val == np.random.permutation(np.arange(12000)%10)) /12000"
   ]
  },
  {
   "cell_type": "markdown",
   "metadata": {},
   "source": [
    "## 07-2 텐서플로와 케라스를 소개합니다"
   ]
  },
  {
   "cell_type": "code",
   "execution_count": 42,
   "metadata": {},
   "outputs": [],
   "source": [
    "from tensorflow.keras import Sequential\n",
    "from tensorflow.keras.layers import Dense"
   ]
  },
  {
   "cell_type": "code",
   "execution_count": 43,
   "metadata": {},
   "outputs": [],
   "source": [
    "model = Sequential()\n",
    "model.add(Dense(100, activation='sigmoid', input_shape=(784,)))\n",
    "model.add(Dense(10, activation='softmax'))"
   ]
  },
  {
   "cell_type": "code",
   "execution_count": 44,
   "metadata": {},
   "outputs": [],
   "source": [
    "model.compile(optimizer='sgd', loss='categorical_crossentropy',\n",
    "              metrics=['accuracy'])"
   ]
  },
  {
   "cell_type": "code",
   "execution_count": 45,
   "metadata": {},
   "outputs": [
    {
     "name": "stdout",
     "output_type": "stream",
     "text": [
      "Epoch 1/40\n",
      "1500/1500 [==============================] - 1s 562us/step - loss: 1.3772 - accuracy: 0.6467 - val_loss: 0.9651 - val_accuracy: 0.7343\n",
      "Epoch 2/40\n",
      "1500/1500 [==============================] - 1s 505us/step - loss: 0.8444 - accuracy: 0.7427 - val_loss: 0.7520 - val_accuracy: 0.7592\n",
      "Epoch 3/40\n",
      "1500/1500 [==============================] - 1s 517us/step - loss: 0.7132 - accuracy: 0.7630 - val_loss: 0.6656 - val_accuracy: 0.7760\n",
      "Epoch 4/40\n",
      "1500/1500 [==============================] - 1s 503us/step - loss: 0.6496 - accuracy: 0.7780 - val_loss: 0.6152 - val_accuracy: 0.7905\n",
      "Epoch 5/40\n",
      "1500/1500 [==============================] - 1s 519us/step - loss: 0.6086 - accuracy: 0.7905 - val_loss: 0.5805 - val_accuracy: 0.8012\n",
      "Epoch 6/40\n",
      "1500/1500 [==============================] - 1s 509us/step - loss: 0.5788 - accuracy: 0.8010 - val_loss: 0.5536 - val_accuracy: 0.8088\n",
      "Epoch 7/40\n",
      "1500/1500 [==============================] - 1s 503us/step - loss: 0.5557 - accuracy: 0.8090 - val_loss: 0.5347 - val_accuracy: 0.8163\n",
      "Epoch 8/40\n",
      "1500/1500 [==============================] - 1s 513us/step - loss: 0.5375 - accuracy: 0.8143 - val_loss: 0.5178 - val_accuracy: 0.8202\n",
      "Epoch 9/40\n",
      "1500/1500 [==============================] - 1s 502us/step - loss: 0.5226 - accuracy: 0.8196 - val_loss: 0.5047 - val_accuracy: 0.8242\n",
      "Epoch 10/40\n",
      "1500/1500 [==============================] - 1s 502us/step - loss: 0.5103 - accuracy: 0.8235 - val_loss: 0.4925 - val_accuracy: 0.8288\n",
      "Epoch 11/40\n",
      "1500/1500 [==============================] - 1s 501us/step - loss: 0.4994 - accuracy: 0.8273 - val_loss: 0.4832 - val_accuracy: 0.8303\n",
      "Epoch 12/40\n",
      "1500/1500 [==============================] - 1s 500us/step - loss: 0.4904 - accuracy: 0.8287 - val_loss: 0.4757 - val_accuracy: 0.8328\n",
      "Epoch 13/40\n",
      "1500/1500 [==============================] - 1s 499us/step - loss: 0.4824 - accuracy: 0.8327 - val_loss: 0.4680 - val_accuracy: 0.8351\n",
      "Epoch 14/40\n",
      "1500/1500 [==============================] - 1s 502us/step - loss: 0.4752 - accuracy: 0.8352 - val_loss: 0.4616 - val_accuracy: 0.8375\n",
      "Epoch 15/40\n",
      "1500/1500 [==============================] - 1s 506us/step - loss: 0.4686 - accuracy: 0.8374 - val_loss: 0.4542 - val_accuracy: 0.8403\n",
      "Epoch 16/40\n",
      "1500/1500 [==============================] - 1s 502us/step - loss: 0.4624 - accuracy: 0.8391 - val_loss: 0.4494 - val_accuracy: 0.8413\n",
      "Epoch 17/40\n",
      "1500/1500 [==============================] - 1s 496us/step - loss: 0.4574 - accuracy: 0.8406 - val_loss: 0.4472 - val_accuracy: 0.8436\n",
      "Epoch 18/40\n",
      "1500/1500 [==============================] - 1s 498us/step - loss: 0.4522 - accuracy: 0.8418 - val_loss: 0.4389 - val_accuracy: 0.8452\n",
      "Epoch 19/40\n",
      "1500/1500 [==============================] - 1s 488us/step - loss: 0.4474 - accuracy: 0.8438 - val_loss: 0.4363 - val_accuracy: 0.8469\n",
      "Epoch 20/40\n",
      "1500/1500 [==============================] - 1s 482us/step - loss: 0.4432 - accuracy: 0.8451 - val_loss: 0.4309 - val_accuracy: 0.8480\n",
      "Epoch 21/40\n",
      "1500/1500 [==============================] - 1s 495us/step - loss: 0.4392 - accuracy: 0.8462 - val_loss: 0.4273 - val_accuracy: 0.8493\n",
      "Epoch 22/40\n",
      "1500/1500 [==============================] - 1s 489us/step - loss: 0.4351 - accuracy: 0.8474 - val_loss: 0.4251 - val_accuracy: 0.8504\n",
      "Epoch 23/40\n",
      "1500/1500 [==============================] - 1s 495us/step - loss: 0.4316 - accuracy: 0.8486 - val_loss: 0.4218 - val_accuracy: 0.8508\n",
      "Epoch 24/40\n",
      "1500/1500 [==============================] - 1s 508us/step - loss: 0.4285 - accuracy: 0.8503 - val_loss: 0.4199 - val_accuracy: 0.8504\n",
      "Epoch 25/40\n",
      "1500/1500 [==============================] - 1s 497us/step - loss: 0.4250 - accuracy: 0.8516 - val_loss: 0.4158 - val_accuracy: 0.8534\n",
      "Epoch 26/40\n",
      "1500/1500 [==============================] - 1s 495us/step - loss: 0.4222 - accuracy: 0.8512 - val_loss: 0.4148 - val_accuracy: 0.8550\n",
      "Epoch 27/40\n",
      "1500/1500 [==============================] - 1s 493us/step - loss: 0.4192 - accuracy: 0.8533 - val_loss: 0.4110 - val_accuracy: 0.8547\n",
      "Epoch 28/40\n",
      "1500/1500 [==============================] - 1s 489us/step - loss: 0.4163 - accuracy: 0.8534 - val_loss: 0.4096 - val_accuracy: 0.8554\n",
      "Epoch 29/40\n",
      "1500/1500 [==============================] - 1s 490us/step - loss: 0.4137 - accuracy: 0.8542 - val_loss: 0.4061 - val_accuracy: 0.8568\n",
      "Epoch 30/40\n",
      "1500/1500 [==============================] - 1s 505us/step - loss: 0.4111 - accuracy: 0.8547 - val_loss: 0.4034 - val_accuracy: 0.8582\n",
      "Epoch 31/40\n",
      "1500/1500 [==============================] - 1s 493us/step - loss: 0.4086 - accuracy: 0.8562 - val_loss: 0.4023 - val_accuracy: 0.8585\n",
      "Epoch 32/40\n",
      "1500/1500 [==============================] - 1s 495us/step - loss: 0.4066 - accuracy: 0.8562 - val_loss: 0.4003 - val_accuracy: 0.8601\n",
      "Epoch 33/40\n",
      "1500/1500 [==============================] - 1s 496us/step - loss: 0.4040 - accuracy: 0.8574 - val_loss: 0.3995 - val_accuracy: 0.8602\n",
      "Epoch 34/40\n",
      "1500/1500 [==============================] - 1s 497us/step - loss: 0.4019 - accuracy: 0.8578 - val_loss: 0.3975 - val_accuracy: 0.8608\n",
      "Epoch 35/40\n",
      "1500/1500 [==============================] - 1s 493us/step - loss: 0.3997 - accuracy: 0.8588 - val_loss: 0.3976 - val_accuracy: 0.8586\n",
      "Epoch 36/40\n",
      "1500/1500 [==============================] - 1s 496us/step - loss: 0.3977 - accuracy: 0.8589 - val_loss: 0.3933 - val_accuracy: 0.8595\n",
      "Epoch 37/40\n",
      "1500/1500 [==============================] - 1s 494us/step - loss: 0.3956 - accuracy: 0.8603 - val_loss: 0.3916 - val_accuracy: 0.8617\n",
      "Epoch 38/40\n",
      "1500/1500 [==============================] - 1s 487us/step - loss: 0.3942 - accuracy: 0.8613 - val_loss: 0.3891 - val_accuracy: 0.8619\n",
      "Epoch 39/40\n",
      "1500/1500 [==============================] - 1s 497us/step - loss: 0.3921 - accuracy: 0.8616 - val_loss: 0.3886 - val_accuracy: 0.8619\n",
      "Epoch 40/40\n",
      "1500/1500 [==============================] - 1s 492us/step - loss: 0.3901 - accuracy: 0.8622 - val_loss: 0.3870 - val_accuracy: 0.8626\n"
     ]
    }
   ],
   "source": [
    "history = model.fit(x_train, y_train_encoded, epochs=40, \n",
    "                    validation_data=(x_val, y_val_encoded))"
   ]
  },
  {
   "cell_type": "code",
   "execution_count": 46,
   "metadata": {},
   "outputs": [
    {
     "name": "stdout",
     "output_type": "stream",
     "text": [
      "dict_keys(['loss', 'accuracy', 'val_loss', 'val_accuracy'])\n"
     ]
    }
   ],
   "source": [
    "print(history.history.keys())"
   ]
  },
  {
   "cell_type": "code",
   "execution_count": 47,
   "metadata": {},
   "outputs": [
    {
     "data": {
      "image/png": "[encoded data removed]",
      "text/plain": [
       "<Figure size 432x288 with 1 Axes>"
      ]
     },
     "metadata": {
      "needs_background": "light"
     },
     "output_type": "display_data"
    }
   ],
   "source": [
    "plt.plot(history.history['loss'])\n",
    "plt.plot(history.history['val_loss'])\n",
    "plt.ylabel('loss')\n",
    "plt.xlabel('epoch')\n",
    "plt.legend(['train_loss', 'val_loss'])\n",
    "plt.show()"
   ]
  },
  {
   "cell_type": "code",
   "execution_count": 48,
   "metadata": {},
   "outputs": [
    {
     "data": {
      "image/png": "[encoded data removed]",
      "text/plain": [
       "<Figure size 432x288 with 1 Axes>"
      ]
     },
     "metadata": {
      "needs_background": "light"
     },
     "output_type": "display_data"
    }
   ],
   "source": [
    "plt.plot(history.history['accuracy'])\n",
    "plt.plot(history.history['val_accuracy'])\n",
    "plt.ylabel('accuracy')\n",
    "plt.xlabel('epoch')\n",
    "plt.legend(['train_accuracy', 'val_accuracy'])\n",
    "plt.show()"
   ]
  },
  {
   "cell_type": "code",
   "execution_count": 49,
   "metadata": {},
   "outputs": [],
   "source": [
    "loss, accuracy = model.evaluate(x_val, y_val_encoded, verbose=0)"
   ]
  },
  {
   "cell_type": "code",
   "execution_count": 50,
   "metadata": {},
   "outputs": [
    {
     "name": "stdout",
     "output_type": "stream",
     "text": [
      "0.862583339214325\n"
     ]
    }
   ],
   "source": [
    "print(accuracy)"
   ]
  },
  {
   "cell_type": "code",
   "execution_count": null,
   "metadata": {},
   "outputs": [],
   "source": []
  }
 ],
 "metadata": {
  "kernelspec": {
   "display_name": "Python 3",
   "language": "python",
   "name": "python3"
  },
  "language_info": {
   "codemirror_mode": {
    "name": "ipython",
    "version": 3
   },
   "file_extension": ".py",
   "mimetype": "text/x-python",
   "name": "python",
   "nbconvert_exporter": "python",
   "pygments_lexer": "ipython3",
   "version": "3.7.6"
  }
 },
 "nbformat": 4,
 "nbformat_minor": 4
}
